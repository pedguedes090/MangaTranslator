{
 "cells": [
  {
   "cell_type": "markdown",
   "id": "81eefd3d",
   "metadata": {},
   "source": [
    "# 🎌 MangaTranslator V3.0 - Quick Setup\n",
    "\n",
    "**ĐƠN GIẢN & NHANH CHÓNG** - Clone và chạy ngay!\n",
    "\n",
    "## 🚀 Chỉ 3 bước:\n",
    "1. **Clone repository** \n",
    "2. **Cài đặt requirements**\n",
    "3. **Chạy app.py**\n",
    "\n",
    "---"
   ]
  },
  {
   "cell_type": "markdown",
   "id": "4cf1f5f9",
   "metadata": {},
   "source": [
    "## 📦 Bước 1: Clone Repository"
   ]
  },
  {
   "cell_type": "code",
   "execution_count": null,
   "id": "3ad8a1dd",
   "metadata": {},
   "outputs": [],
   "source": [
    "# Clone MangaTranslator repository\n",
    "print(\"📥 Cloning MangaTranslator repository...\")\n",
    "\n",
    "!git clone https://github.com/pedguedes090/MangaTranslator.git\n",
    "\n",
    "# Change to project directory\n",
    "import os\n",
    "os.chdir('/content/MangaTranslator')\n",
    "\n",
    "print(\"✅ Repository cloned successfully!\")\n",
    "print(f\"📂 Current directory: {os.getcwd()}\")\n",
    "\n",
    "# Show project structure\n",
    "print(\"\\n📁 Project structure:\")\n",
    "!ls -la"
   ]
  },
  {
   "cell_type": "markdown",
   "id": "0b5998f1",
   "metadata": {},
   "source": [
    "## 🔧 Bước 2: Cài đặt Requirements"
   ]
  },
  {
   "cell_type": "code",
   "execution_count": null,
   "id": "3291e2b5",
   "metadata": {},
   "outputs": [],
   "source": [
    "# Cài đặt các package từ requirements.txt\n",
    "print(\"📦 Installing requirements...\")\n",
    "\n",
    "!pip install -r requirements.txt\n",
    "\n",
    "print(\"✅ Requirements installed!\")"
   ]
  },
  {
   "cell_type": "code",
   "execution_count": null,
   "id": "67517ab1",
   "metadata": {},
   "outputs": [],
   "source": [
    "# Cài đặt PaddlePaddle riêng (theo hướng dẫn trong requirements.txt)\n",
    "print(\"🐼 Installing PaddlePaddle...\")\n",
    "\n",
    "!python -m pip install paddlepaddle==3.1.1 -i https://www.paddlepaddle.org.cn/packages/stable/cpu/\n",
    "\n",
    "print(\"✅ PaddlePaddle installed!\")"
   ]
  },
  {
   "cell_type": "markdown",
   "id": "3119cc16",
   "metadata": {},
   "source": [
    "## 🔑 Bước 3: Setup API Keys (Tùy chọn)"
   ]
  },
  {
   "cell_type": "code",
   "execution_count": null,
   "id": "92d16360",
   "metadata": {},
   "outputs": [],
   "source": [
    "# Setup API Keys cho translation services\n",
    "import os\n",
    "from google.colab import userdata\n",
    "\n",
    "print(\"🔑 Setting up API Keys...\")\n",
    "\n",
    "# Cách 1: Sử dụng Colab Secrets (Khuyến nghị)\n",
    "try:\n",
    "    gemini_api_key = userdata.get('GEMINI_API_KEY')\n",
    "    if gemini_api_key:\n",
    "        os.environ['GEMINI_API_KEY'] = gemini_api_key\n",
    "        print(\"✅ Gemini API Key loaded from Colab Secrets\")\n",
    "except:\n",
    "    pass\n",
    "\n",
    "try:\n",
    "    deepinfra_api_key = userdata.get('DEEPINFRA_API_KEY')\n",
    "    if deepinfra_api_key:\n",
    "        os.environ['DEEPINFRA_API_KEY'] = deepinfra_api_key\n",
    "        print(\"✅ DeepInfra API Key loaded from Colab Secrets\")\n",
    "except:\n",
    "    pass\n",
    "\n",
    "# Cách 2: Manual input\n",
    "if 'GEMINI_API_KEY' not in os.environ:\n",
    "    print(\"\\n💡 Để có translation tốt nhất, hãy thêm API keys:\")\n",
    "    print(\"- Gemini API: https://aistudio.google.com/app/apikey\")\n",
    "    print(\"- DeepInfra API: https://deepinfra.com/\")\n",
    "    print(\"- Hoặc thêm vào Colab Secrets (🔒 icon bên trái)\")\n",
    "    \n",
    "    gemini_key = input(\"\\nEnter Gemini API Key (hoặc Enter để bỏ qua): \").strip()\n",
    "    if gemini_key:\n",
    "        os.environ['GEMINI_API_KEY'] = gemini_key\n",
    "        print(\"✅ Gemini API Key đã được set\")\n",
    "\n",
    "print(\"\\n🎯 Setup completed! Ready to run app.py\")"
   ]
  },
  {
   "cell_type": "markdown",
   "id": "70ed35f2",
   "metadata": {},
   "source": [
    "## 🚀 Bước 4: Chạy MangaTranslator"
   ]
  },
  {
   "cell_type": "code",
   "execution_count": null,
   "id": "695b995d",
   "metadata": {},
   "outputs": [],
   "source": [
    "# Chạy ứng dụng MangaTranslator\n",
    "print(\"🚀 Starting MangaTranslator V3.0...\")\n",
    "print(\"📱 App sẽ mở trong tab mới với public URL\")\n",
    "print(\"🔗 Chia sẻ URL với bạn bè để cùng sử dụng!\")\n",
    "print(\"\\n🎌 Sẵn sàng dịch manga! 🎌\")\n",
    "print(\"=\" * 50)\n",
    "\n",
    "# Chạy app.py\n",
    "!python app.py"
   ]
  },
  {
   "cell_type": "markdown",
   "id": "3f5e4969",
   "metadata": {},
   "source": [
    "## 🛠️ Troubleshooting\n",
    "\n",
    "### ❌ Nếu có lỗi:\n",
    "\n",
    "**1. Lỗi import:**\n",
    "```python\n",
    "!pip install --upgrade [package-name]\n",
    "```\n",
    "\n",
    "**2. Lỗi model không tìm thấy:**\n",
    "```python\n",
    "# Kiểm tra file model.pt\n",
    "!ls -la model.pt\n",
    "```\n",
    "\n",
    "**3. Lỗi GPU memory:**\n",
    "```python\n",
    "import torch\n",
    "torch.cuda.empty_cache()\n",
    "```\n",
    "\n",
    "**4. Restart runtime nếu cần:**\n",
    "- Runtime → Restart Runtime\n",
    "- Chạy lại từ đầu\n",
    "\n",
    "---\n",
    "\n",
    "### 💡 Tips:\n",
    "- Sử dụng GPU runtime để xử lý nhanh hơn\n",
    "- Upload ảnh manga có chất lượng tốt\n",
    "- Thêm API keys để có translation chất lượng cao\n",
    "\n",
    "**MangaTranslator V3.0** 🎌 - Simple & Powerful!"
   ]
  },
  {
   "cell_type": "markdown",
   "id": "7e95eb7f",
   "metadata": {},
   "source": [
    "## 🌐 Tạo Public Link cho Colab\n",
    "\n",
    "### 📝 **Cách 1: Sửa app.py (Đã fix sẵn)**\n",
    "```python\n",
    "# Trong app.py, dòng cuối cùng:\n",
    "demo.launch(debug=False, share=True)  # share=True để có public link\n",
    "```\n",
    "\n",
    "### 📝 **Cách 2: Chạy thêm cell này nếu cần custom**"
   ]
  },
  {
   "cell_type": "code",
   "execution_count": null,
   "id": "4ebf0770",
   "metadata": {},
   "outputs": [],
   "source": [
    "# Tạo public link custom (nếu cần)\n",
    "import gradio as gr\n",
    "import os\n",
    "\n",
    "print(\"🌐 Tạo public link cho MangaTranslator...\")\n",
    "\n",
    "# Nếu app.py chưa có share=True, chạy cell này\n",
    "# Hoặc muốn custom thêm settings\n",
    "\n",
    "# Kiểm tra app.py có share=True chưa\n",
    "with open('app.py', 'r', encoding='utf-8') as f:\n",
    "    content = f.read()\n",
    "    \n",
    "if 'share=True' in content:\n",
    "    print(\"✅ app.py đã được cấu hình để tạo public link!\")\n",
    "    print(\"🚀 Chỉ cần chạy: python app.py\")\n",
    "else:\n",
    "    print(\"⚠️ app.py chưa có share=True\")\n",
    "    print(\"📝 Sửa dòng cuối app.py thành:\")\n",
    "    print(\"demo.launch(debug=False, share=True)\")\n",
    "\n",
    "print(\"\\n🎯 Sau khi chạy app.py, bạn sẽ thấy:\")\n",
    "print(\"📱 Local URL: http://127.0.0.1:7860\")\n",
    "print(\"🌐 Public URL: https://xxxxxxx.gradio.live\")\n",
    "print(\"🔗 Copy public URL để chia sẻ!\")"
   ]
  },
  {
   "cell_type": "code",
   "execution_count": null,
   "id": "97549664",
   "metadata": {},
   "outputs": [],
   "source": [
    "# CHẠY ĐỂ TẠO PUBLIC LINK NGAY (Nếu python app.py không work)\n",
    "print(\"🚀 Launching with GUARANTEED public link...\")\n",
    "\n",
    "# Import app components\n",
    "exec(open('app.py').read().replace('share=False', 'share=True').replace('share=false', 'share=True'))\n",
    "\n",
    "# Hoặc chạy manual:\n",
    "# import subprocess\n",
    "# import sys\n",
    "# \n",
    "# # Chạy app với share=True force\n",
    "# result = subprocess.run([\n",
    "#     sys.executable, '-c',\n",
    "#     '''\n",
    "# exec(open(\"app.py\").read().replace(\"share=False\", \"share=True\").replace(\"share=false\", \"share=True\"))\n",
    "#     '''\n",
    "# ], cwd='/content/MangaTranslator')"
   ]
  }
 ],
 "metadata": {
  "language_info": {
   "name": "python"
  }
 },
 "nbformat": 4,
 "nbformat_minor": 5
}
